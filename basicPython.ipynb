{
 "cells": [
  {
   "cell_type": "code",
   "execution_count": 10,
   "id": "e7d29317-19ea-42d8-ba32-16830fea9f0f",
   "metadata": {
    "scrolled": true
   },
   "outputs": [
    {
     "data": {
      "text/plain": [
       "'C:\\\\Users\\\\leeno'"
      ]
     },
     "execution_count": 10,
     "metadata": {},
     "output_type": "execute_result"
    }
   ],
   "source": [
    "pwd"
   ]
  },
  {
   "cell_type": "code",
   "execution_count": null,
   "id": "7e050bfa-a10e-46b9-bd93-6003b45059ab",
   "metadata": {},
   "outputs": [],
   "source": [
    "a=6"
   ]
  },
  {
   "cell_type": "markdown",
   "id": "76ffca4a-55a3-4062-b52b-514c92f24f0c",
   "metadata": {},
   "source": [
    "<img src=\"images/1.jpg\"/>"
   ]
  },
  {
   "cell_type": "markdown",
   "id": "92b90680-db09-4eac-9240-b549b36f4df8",
   "metadata": {},
   "source": [
    "<a href=https://pynative.com/wp-content/uploads/2021/02/dictionaries-in-python.jpg>dictionary</a"
   ]
  },
  {
   "cell_type": "markdown",
   "id": "d8a8aab4-521f-4d12-9c3d-b7ae44dec27b",
   "metadata": {},
   "source": [
    "<h1>dictionary</h1>\n",
    "<h4> 딕셔너리는 키와 value의 쌍으로 이루어진 데이터 => 자바스크립트의 객체와 동일</h4>"
   ]
  },
  {
   "cell_type": "code",
   "execution_count": 5,
   "id": "cb044429-a1ed-4297-88a8-9cdcb7ad60cd",
   "metadata": {},
   "outputs": [],
   "source": [
    "a={'a':6} # dictionary = > 객체"
   ]
  },
  {
   "cell_type": "code",
   "execution_count": 6,
   "id": "b4452c5f-2340-4412-beed-24b0c5779305",
   "metadata": {},
   "outputs": [],
   "source": [
    "b=[1,2,4] # 리스트 => 배열"
   ]
  },
  {
   "cell_type": "code",
   "execution_count": 8,
   "id": "e6e703fd-b9ed-496b-a5c4-857dd6da9215",
   "metadata": {},
   "outputs": [
    {
     "data": {
      "text/plain": [
       "{'a': 6, 'b': 13}"
      ]
     },
     "execution_count": 8,
     "metadata": {},
     "output_type": "execute_result"
    }
   ],
   "source": [
    "a['b']=13\n",
    "a"
   ]
  },
  {
   "cell_type": "code",
   "execution_count": null,
   "id": "047f23ee-cae7-4834-922c-c63609b453f0",
   "metadata": {},
   "outputs": [],
   "source": []
  },
  {
   "cell_type": "code",
   "execution_count": null,
   "id": "46b228c1-f932-44fe-9179-aedc4a608a60",
   "metadata": {},
   "outputs": [],
   "source": []
  }
 ],
 "metadata": {
  "kernelspec": {
   "display_name": "Python 3 (ipykernel)",
   "language": "python",
   "name": "python3"
  },
  "language_info": {
   "codemirror_mode": {
    "name": "ipython",
    "version": 3
   },
   "file_extension": ".py",
   "mimetype": "text/x-python",
   "name": "python",
   "nbconvert_exporter": "python",
   "pygments_lexer": "ipython3",
   "version": "3.12.7"
  }
 },
 "nbformat": 4,
 "nbformat_minor": 5
}
